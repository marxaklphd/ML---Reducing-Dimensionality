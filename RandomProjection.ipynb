{
 "cells": [
  {
   "cell_type": "code",
   "execution_count": 1,
   "id": "dfd251b5-79bd-47e2-b750-c78a6d83ccc6",
   "metadata": {},
   "outputs": [],
   "source": [
    "'''Random Projection to reduce dimensions\n",
    "Gaussian and Sparse'''\n",
    "# Importing the needed libraries\n",
    "import pandas as pd\n",
    "import seaborn as sns\n",
    "import matplotlib.pyplot as plt\n",
    "import math\n",
    "import numpy as np\n",
    "pd.options.mode.chained_assignment = None\n",
    "import warnings\n",
    "warnings.filterwarnings('ignore')\n",
    "import statsmodels.formula.api as smf\n",
    "from sklearn.preprocessing import add_dummy_feature\n",
    "from sklearn.preprocessing import StandardScaler\n",
    "from sklearn.pipeline import make_pipeline\n",
    "from sklearn.preprocessing import PolynomialFeatures\n",
    "from sklearn.linear_model import SGDRegressor\n",
    "from sklearn.linear_model import LogisticRegression\n",
    "from sklearn.model_selection import train_test_split\n",
    "from sklearn.svm import LinearSVC\n",
    "from sklearn.tree import DecisionTreeRegressor\n",
    "from scipy.spatial.transform import Rotation"
   ]
  },
  {
   "cell_type": "code",
   "execution_count": 5,
   "id": "42300de6-424c-4539-9ac6-9169e38fbd01",
   "metadata": {},
   "outputs": [
    {
     "data": {
      "text/plain": [
       "7456"
      ]
     },
     "execution_count": 5,
     "metadata": {},
     "output_type": "execute_result"
    }
   ],
   "source": [
    "from sklearn.random_projection import johnson_lindenstrauss_min_dim\n",
    "m,eps = 6000,0.1\n",
    "dims = johnson_lindenstrauss_min_dim(m,eps=eps)\n",
    "dims"
   ]
  },
  {
   "cell_type": "code",
   "execution_count": 7,
   "id": "c5d03b63-62bb-47c0-a7ff-8b1e98487194",
   "metadata": {},
   "outputs": [
    {
     "data": {
      "text/plain": [
       "7456"
      ]
     },
     "execution_count": 7,
     "metadata": {},
     "output_type": "execute_result"
    }
   ],
   "source": [
    "# the exact equation by johnson_lindenstrauss_min_dim\n",
    "dims_eq = int(4 * np.log(m) / (eps ** 2 / 2 - eps ** 3 / 3))\n",
    "dims_eq"
   ]
  },
  {
   "cell_type": "code",
   "execution_count": 35,
   "id": "09f7effb-b3b9-4ab3-ab1f-c0a6a53ad1df",
   "metadata": {},
   "outputs": [
    {
     "data": {
      "text/plain": [
       "(6000, 7456)"
      ]
     },
     "execution_count": 35,
     "metadata": {},
     "output_type": "execute_result"
    }
   ],
   "source": [
    "n=20000\n",
    "M = (1/np.sqrt(dims))*np.random.randn(dims,n)\n",
    "# Now generating random dataset\n",
    "x = np.random.randn(m,n) # data original\n",
    "x_reduced = x @ M.T # data projected\n",
    "x_reduced.shape\n",
    "\"\"\"Conclusion: Thus the data is now still 6000 instances \n",
    "but reduced to 7456 dimentions instead of 20000!\"\"\""
   ]
  },
  {
   "cell_type": "code",
   "execution_count": 36,
   "id": "5bad8764-5d5e-45b5-8c74-3cd8dae60716",
   "metadata": {},
   "outputs": [
    {
     "data": {
      "text/plain": [
       "(6000, 20000)"
      ]
     },
     "execution_count": 36,
     "metadata": {},
     "output_type": "execute_result"
    }
   ],
   "source": [
    "x.shape"
   ]
  },
  {
   "cell_type": "code",
   "execution_count": 37,
   "id": "da8cbc9c-8e10-4b59-8159-648f9c7f6fa9",
   "metadata": {},
   "outputs": [],
   "source": [
    "# or we can use GaussianRandomProjection to do same:\n",
    "from sklearn.random_projection import GaussianRandomProjection\n",
    "gr_projection = GaussianRandomProjection(eps=eps)\n",
    "x_reduced2 = gr_projection.fit_transform(x) # same as x_reduced"
   ]
  },
  {
   "cell_type": "code",
   "execution_count": 40,
   "id": "b7b1e8ff-1314-4219-9567-1428fcaec120",
   "metadata": {},
   "outputs": [],
   "source": [
    "# to recover x\n",
    "# first find the inverse of the matrix using SVD\n",
    "comp_pinv = np.linalg.pinv(gr_projection.components_)\n",
    "x_original = x_reduced @ comp_pinv.T"
   ]
  },
  {
   "cell_type": "code",
   "execution_count": 42,
   "id": "d14c4da0-b046-4da6-acc4-aeb2004e045a",
   "metadata": {},
   "outputs": [],
   "source": [
    "\"\"\"The main difference is that the random matrix the \n",
    "SparseRandomProjection generates is sparse.  it uses\n",
    "much less memory and much faster\"\"\"\n",
    "from sklearn.random_projection import SparseRandomProjection\n",
    "sp_proj = SparseRandomProjection(eps=eps)\n",
    "x_reduced3 = sp_proj.fit_transform(x)"
   ]
  },
  {
   "cell_type": "code",
   "execution_count": null,
   "id": "37dee765-34c5-4205-b8cf-eea0fb9b7be6",
   "metadata": {},
   "outputs": [],
   "source": [
    "\"\"\"Conclusion\n",
    "Better to use SparseRandomProjection especially\n",
    "for large or sparse data sets\"\"\""
   ]
  }
 ],
 "metadata": {
  "kernelspec": {
   "display_name": "Python 3 (ipykernel)",
   "language": "python",
   "name": "python3"
  },
  "language_info": {
   "codemirror_mode": {
    "name": "ipython",
    "version": 3
   },
   "file_extension": ".py",
   "mimetype": "text/x-python",
   "name": "python",
   "nbconvert_exporter": "python",
   "pygments_lexer": "ipython3",
   "version": "3.9.18"
  }
 },
 "nbformat": 4,
 "nbformat_minor": 5
}
