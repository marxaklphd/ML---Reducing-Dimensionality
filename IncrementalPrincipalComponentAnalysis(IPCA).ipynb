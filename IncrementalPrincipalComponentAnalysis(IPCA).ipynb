{
 "cells": [
  {
   "cell_type": "code",
   "execution_count": 1,
   "id": "2d50ae94-5aa7-40cd-b5f6-cae0d69f6419",
   "metadata": {},
   "outputs": [],
   "source": [
    "'''Incremental Principal Component Analysis (IPCA)'''\n",
    "# Importing the needed libraries\n",
    "import pandas as pd\n",
    "import seaborn as sns\n",
    "import matplotlib.pyplot as plt\n",
    "import math\n",
    "import numpy as np\n",
    "pd.options.mode.chained_assignment = None\n",
    "import warnings\n",
    "warnings.filterwarnings('ignore')\n",
    "import statsmodels.formula.api as smf\n",
    "from sklearn.preprocessing import add_dummy_feature\n",
    "from sklearn.preprocessing import StandardScaler\n",
    "from sklearn.pipeline import make_pipeline\n",
    "from sklearn.preprocessing import PolynomialFeatures\n",
    "from sklearn.linear_model import SGDRegressor\n",
    "from sklearn.linear_model import LogisticRegression\n",
    "from sklearn.model_selection import train_test_split\n",
    "from sklearn.svm import LinearSVC\n",
    "from sklearn.tree import DecisionTreeRegressor\n",
    "from scipy.spatial.transform import Rotation"
   ]
  },
  {
   "cell_type": "code",
   "execution_count": 14,
   "id": "14c9eef9-9537-4f60-8fee-8cbc9e0e5b15",
   "metadata": {},
   "outputs": [
    {
     "data": {
      "text/plain": [
       "((62000, 784), (62000,))"
      ]
     },
     "execution_count": 14,
     "metadata": {},
     "output_type": "execute_result"
    }
   ],
   "source": [
    "from sklearn.datasets import fetch_openml\n",
    "\n",
    "mnist = fetch_openml('mnist_784', as_frame=False, \n",
    "                     parser=\"auto\")\n",
    "x_train, y_train = mnist.data[:62_000], mnist.target[:62_000]\n",
    "x_test, y_test = mnist.data[62_000:], mnist.target[62_000:]\n",
    "x_train.shape,y_train.shape"
   ]
  },
  {
   "cell_type": "code",
   "execution_count": 17,
   "id": "4e0f52b2-8fe1-4968-bd88-f59ad5a5a34d",
   "metadata": {},
   "outputs": [
    {
     "data": {
      "text/plain": [
       "(62000, 154)"
      ]
     },
     "execution_count": 17,
     "metadata": {},
     "output_type": "execute_result"
    }
   ],
   "source": [
    "from sklearn.decomposition import IncrementalPCA\n",
    "\"\"\"n_components=154 is based on the previous file where I\n",
    "calculated pca.explained_variance_ratio_ and I also plotted\n",
    "Explained_variance. See file \"PrincipalComponentAnalysis(PCA)\"\n",
    "\"\"\"\n",
    "mini_batches = 120\n",
    "inc_pca = IncrementalPCA(\n",
    "    n_components=154\n",
    ")\n",
    "for batch in np.array_split(x_train,mini_batches):\n",
    "    inc_pca.partial_fit(batch)\n",
    "x_reduced = inc_pca.transform(x_train)\n",
    "x_reduced.shape\n",
    "\"\"\"Dimensions went from 784 to 154 and are projected\"\"\""
   ]
  }
 ],
 "metadata": {
  "kernelspec": {
   "display_name": "Python 3 (ipykernel)",
   "language": "python",
   "name": "python3"
  },
  "language_info": {
   "codemirror_mode": {
    "name": "ipython",
    "version": 3
   },
   "file_extension": ".py",
   "mimetype": "text/x-python",
   "name": "python",
   "nbconvert_exporter": "python",
   "pygments_lexer": "ipython3",
   "version": "3.9.18"
  }
 },
 "nbformat": 4,
 "nbformat_minor": 5
}
